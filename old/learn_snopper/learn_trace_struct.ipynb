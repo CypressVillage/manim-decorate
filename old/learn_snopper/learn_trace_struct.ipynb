{
 "cells": [
  {
   "cell_type": "code",
   "execution_count": 10,
   "metadata": {},
   "outputs": [
    {
     "name": "stderr",
     "output_type": "stream",
     "text": [
      "UsageError: Line magic function `%%manim` not found.\n"
     ]
    }
   ],
   "source": [
    "from manim import *\n",
    "%%manim -v WARNING --disable_caching -qm Test\n",
    "class Test(Scene):\n",
    "    def construct(self):\n",
    "        text = Text(\"Hello World\")\n",
    "        self.play(Write(text))\n",
    "        self.wait(1)\n",
    "        self.play(FadeOut(text))\n"
   ]
  }
 ],
 "metadata": {
  "kernelspec": {
   "display_name": "Python 3.9.7 ('base')",
   "language": "python",
   "name": "python3"
  },
  "language_info": {
   "codemirror_mode": {
    "name": "ipython",
    "version": 3
   },
   "file_extension": ".py",
   "mimetype": "text/x-python",
   "name": "python",
   "nbconvert_exporter": "python",
   "pygments_lexer": "ipython3",
   "version": "3.10.11"
  },
  "orig_nbformat": 4,
  "vscode": {
   "interpreter": {
    "hash": "79c53d70c77dc98b861299e3e055e0ead0119d2672288b18013de75bd1c89937"
   }
  }
 },
 "nbformat": 4,
 "nbformat_minor": 2
}
